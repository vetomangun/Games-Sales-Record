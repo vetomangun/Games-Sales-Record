{
 "cells": [
  {
   "attachments": {},
   "cell_type": "markdown",
   "metadata": {},
   "source": [
    "# Read Data and Cleaning Data"
   ]
  },
  {
   "cell_type": "code",
   "execution_count": 28,
   "metadata": {},
   "outputs": [],
   "source": [
    "import pandas as pd\n",
    "import matplotlib.pyplot as plt\n",
    "import seaborn as sns"
   ]
  },
  {
   "cell_type": "code",
   "execution_count": 29,
   "metadata": {},
   "outputs": [
    {
     "data": {
      "text/html": [
       "<div>\n",
       "<style scoped>\n",
       "    .dataframe tbody tr th:only-of-type {\n",
       "        vertical-align: middle;\n",
       "    }\n",
       "\n",
       "    .dataframe tbody tr th {\n",
       "        vertical-align: top;\n",
       "    }\n",
       "\n",
       "    .dataframe thead th {\n",
       "        text-align: right;\n",
       "    }\n",
       "</style>\n",
       "<table border=\"1\" class=\"dataframe\">\n",
       "  <thead>\n",
       "    <tr style=\"text-align: right;\">\n",
       "      <th></th>\n",
       "      <th>Name</th>\n",
       "      <th>Sales</th>\n",
       "      <th>Series</th>\n",
       "      <th>Release</th>\n",
       "      <th>Genre</th>\n",
       "      <th>Developer</th>\n",
       "      <th>Publisher</th>\n",
       "    </tr>\n",
       "  </thead>\n",
       "  <tbody>\n",
       "    <tr>\n",
       "      <th>0</th>\n",
       "      <td>PlayerUnknown's Battlegrounds</td>\n",
       "      <td>42.0</td>\n",
       "      <td>NaN</td>\n",
       "      <td>12/01/2017</td>\n",
       "      <td>Battle royale</td>\n",
       "      <td>PUBG Studios</td>\n",
       "      <td>Krafton</td>\n",
       "    </tr>\n",
       "    <tr>\n",
       "      <th>1</th>\n",
       "      <td>Minecraft</td>\n",
       "      <td>33.0</td>\n",
       "      <td>Minecraft</td>\n",
       "      <td>11/01/2011</td>\n",
       "      <td>Sandbox,Â survival</td>\n",
       "      <td>Mojang Studios</td>\n",
       "      <td>Mojang Studios</td>\n",
       "    </tr>\n",
       "    <tr>\n",
       "      <th>2</th>\n",
       "      <td>Diablo III</td>\n",
       "      <td>20.0</td>\n",
       "      <td>Diablo</td>\n",
       "      <td>05/01/2012</td>\n",
       "      <td>Action role-playing</td>\n",
       "      <td>Blizzard Entertainment</td>\n",
       "      <td>Blizzard Entertainment</td>\n",
       "    </tr>\n",
       "    <tr>\n",
       "      <th>3</th>\n",
       "      <td>Garry's Mod</td>\n",
       "      <td>20.0</td>\n",
       "      <td>NaN</td>\n",
       "      <td>11/01/2006</td>\n",
       "      <td>Sandbox</td>\n",
       "      <td>Facepunch Studios</td>\n",
       "      <td>Valve</td>\n",
       "    </tr>\n",
       "    <tr>\n",
       "      <th>4</th>\n",
       "      <td>Terraria</td>\n",
       "      <td>17.2</td>\n",
       "      <td>NaN</td>\n",
       "      <td>05/01/2011</td>\n",
       "      <td>Action-adventure</td>\n",
       "      <td>Re-Logic</td>\n",
       "      <td>Re-Logic</td>\n",
       "    </tr>\n",
       "  </tbody>\n",
       "</table>\n",
       "</div>"
      ],
      "text/plain": [
       "                            Name  Sales     Series     Release  \\\n",
       "0  PlayerUnknown's Battlegrounds   42.0        NaN  12/01/2017   \n",
       "1                      Minecraft   33.0  Minecraft  11/01/2011   \n",
       "2                     Diablo III   20.0     Diablo  05/01/2012   \n",
       "3                    Garry's Mod   20.0        NaN  11/01/2006   \n",
       "4                       Terraria   17.2        NaN  05/01/2011   \n",
       "\n",
       "                 Genre               Developer               Publisher  \n",
       "0        Battle royale            PUBG Studios                 Krafton  \n",
       "1   Sandbox,Â survival          Mojang Studios          Mojang Studios  \n",
       "2  Action role-playing  Blizzard Entertainment  Blizzard Entertainment  \n",
       "3              Sandbox       Facepunch Studios                   Valve  \n",
       "4     Action-adventure                Re-Logic                Re-Logic  "
      ]
     },
     "execution_count": 29,
     "metadata": {},
     "output_type": "execute_result"
    }
   ],
   "source": [
    " #Read data\n",
    "df = pd.read_csv('games_sales.csv', sep=\";\", on_bad_lines='skip')\n",
    "df.head(5)"
   ]
  },
  {
   "cell_type": "code",
   "execution_count": 142,
   "metadata": {},
   "outputs": [
    {
     "data": {
      "text/html": [
       "<div>\n",
       "<style scoped>\n",
       "    .dataframe tbody tr th:only-of-type {\n",
       "        vertical-align: middle;\n",
       "    }\n",
       "\n",
       "    .dataframe tbody tr th {\n",
       "        vertical-align: top;\n",
       "    }\n",
       "\n",
       "    .dataframe thead th {\n",
       "        text-align: right;\n",
       "    }\n",
       "</style>\n",
       "<table border=\"1\" class=\"dataframe\">\n",
       "  <thead>\n",
       "    <tr style=\"text-align: right;\">\n",
       "      <th></th>\n",
       "      <th>Name</th>\n",
       "      <th>Sales</th>\n",
       "      <th>Series</th>\n",
       "      <th>Release</th>\n",
       "      <th>Genre</th>\n",
       "      <th>Developer</th>\n",
       "      <th>Publisher</th>\n",
       "    </tr>\n",
       "  </thead>\n",
       "  <tbody>\n",
       "    <tr>\n",
       "      <th>1</th>\n",
       "      <td>Minecraft</td>\n",
       "      <td>33.0</td>\n",
       "      <td>Minecraft</td>\n",
       "      <td>2011-11-01</td>\n",
       "      <td>Sandbox,Â survival</td>\n",
       "      <td>Mojang Studios</td>\n",
       "      <td>Mojang Studios</td>\n",
       "    </tr>\n",
       "    <tr>\n",
       "      <th>2</th>\n",
       "      <td>Diablo III</td>\n",
       "      <td>20.0</td>\n",
       "      <td>Diablo</td>\n",
       "      <td>2012-05-01</td>\n",
       "      <td>Action role-playing</td>\n",
       "      <td>Blizzard Entertainment</td>\n",
       "      <td>Blizzard Entertainment</td>\n",
       "    </tr>\n",
       "    <tr>\n",
       "      <th>5</th>\n",
       "      <td>World of Warcraft</td>\n",
       "      <td>14.0</td>\n",
       "      <td>Warcraft</td>\n",
       "      <td>2004-11-01</td>\n",
       "      <td>MMORPG</td>\n",
       "      <td>Blizzard Entertainment</td>\n",
       "      <td>Blizzard Entertainment</td>\n",
       "    </tr>\n",
       "    <tr>\n",
       "      <th>6</th>\n",
       "      <td>Half-Life 2</td>\n",
       "      <td>12.0</td>\n",
       "      <td>Half-Life</td>\n",
       "      <td>2004-11-01</td>\n",
       "      <td>First-person shooter</td>\n",
       "      <td>Valve</td>\n",
       "      <td>ValveÂ (digital)</td>\n",
       "    </tr>\n",
       "    <tr>\n",
       "      <th>7</th>\n",
       "      <td>The Witcher 3: Wild Hunt</td>\n",
       "      <td>12.0</td>\n",
       "      <td>The Witcher</td>\n",
       "      <td>2015-05-01</td>\n",
       "      <td>Action role-playing</td>\n",
       "      <td>CD Projekt Red</td>\n",
       "      <td>CD Projekt</td>\n",
       "    </tr>\n",
       "  </tbody>\n",
       "</table>\n",
       "</div>"
      ],
      "text/plain": [
       "                       Name  Sales       Series    Release  \\\n",
       "1                 Minecraft   33.0    Minecraft 2011-11-01   \n",
       "2                Diablo III   20.0       Diablo 2012-05-01   \n",
       "5         World of Warcraft   14.0     Warcraft 2004-11-01   \n",
       "6               Half-Life 2   12.0    Half-Life 2004-11-01   \n",
       "7  The Witcher 3: Wild Hunt   12.0  The Witcher 2015-05-01   \n",
       "\n",
       "                  Genre               Developer               Publisher  \n",
       "1    Sandbox,Â survival          Mojang Studios          Mojang Studios  \n",
       "2   Action role-playing  Blizzard Entertainment  Blizzard Entertainment  \n",
       "5                MMORPG  Blizzard Entertainment  Blizzard Entertainment  \n",
       "6  First-person shooter                   Valve        ValveÂ (digital)  \n",
       "7   Action role-playing          CD Projekt Red              CD Projekt  "
      ]
     },
     "execution_count": 142,
     "metadata": {},
     "output_type": "execute_result"
    }
   ],
   "source": [
    "#Cleaned dataframe\n",
    "df_cleaned = df.dropna()\n",
    "df_cleaned.head()"
   ]
  },
  {
   "cell_type": "code",
   "execution_count": 30,
   "metadata": {},
   "outputs": [
    {
     "data": {
      "text/plain": [
       "Index(['Name', 'Sales', 'Series', 'Release', 'Genre', 'Developer',\n",
       "       'Publisher'],\n",
       "      dtype='object')"
      ]
     },
     "execution_count": 30,
     "metadata": {},
     "output_type": "execute_result"
    }
   ],
   "source": [
    "#Show name of columns\n",
    "df.columns"
   ]
  },
  {
   "cell_type": "code",
   "execution_count": 31,
   "metadata": {},
   "outputs": [],
   "source": [
    "#Change column data type\n",
    "df['Release'] = pd.to_datetime(df['Release'])"
   ]
  },
  {
   "cell_type": "code",
   "execution_count": 32,
   "metadata": {},
   "outputs": [
    {
     "name": "stdout",
     "output_type": "stream",
     "text": [
      "<class 'pandas.core.frame.DataFrame'>\n",
      "RangeIndex: 177 entries, 0 to 176\n",
      "Data columns (total 7 columns):\n",
      " #   Column     Non-Null Count  Dtype         \n",
      "---  ------     --------------  -----         \n",
      " 0   Name       177 non-null    object        \n",
      " 1   Sales      177 non-null    float64       \n",
      " 2   Series     141 non-null    object        \n",
      " 3   Release    177 non-null    datetime64[ns]\n",
      " 4   Genre      177 non-null    object        \n",
      " 5   Developer  177 non-null    object        \n",
      " 6   Publisher  177 non-null    object        \n",
      "dtypes: datetime64[ns](1), float64(1), object(5)\n",
      "memory usage: 9.8+ KB\n"
     ]
    }
   ],
   "source": [
    "#Show about each column\n",
    "df.info()"
   ]
  },
  {
   "cell_type": "code",
   "execution_count": 33,
   "metadata": {},
   "outputs": [
    {
     "name": "stdout",
     "output_type": "stream",
     "text": [
      "Series\n",
      "StarCraft            6\n",
      "Command & Conquer    5\n",
      "Civilization         4\n",
      "Age of Empires       4\n",
      "Warcraft             3\n",
      "Name: count, dtype: int64 \n",
      "\n",
      "Genre\n",
      "Real-time strategy                        26\n",
      "First-person shooter                      19\n",
      "Action role-playing                       12\n",
      "Construction and management simulation     9\n",
      "Role-playing game                          8\n",
      "Name: count, dtype: int64 \n",
      "\n",
      "Developer\n",
      "Blizzard Entertainment        10\n",
      "Maxis                          6\n",
      "Paradox Development Studio     5\n",
      "id Software                    4\n",
      "Westwood Studios               4\n",
      "Name: count, dtype: int64 \n",
      "\n",
      "Publisher\n",
      "Electronic Arts           19\n",
      "Blizzard Entertainment    10\n",
      "Paradox Interactive        7\n",
      "Activision                 6\n",
      "GT Interactive             5\n",
      "Name: count, dtype: int64 \n",
      "\n"
     ]
    }
   ],
   "source": [
    "#Show 5 top value each column\n",
    "for col_name in ['Series', 'Genre', 'Developer', 'Publisher']:\n",
    "    print(df[col_name].value_counts().head(), '\\n')"
   ]
  },
  {
   "attachments": {},
   "cell_type": "markdown",
   "metadata": {},
   "source": [
    "# EDA"
   ]
  },
  {
   "cell_type": "code",
   "execution_count": 52,
   "metadata": {},
   "outputs": [
    {
     "data": {
      "text/plain": [
       "Name                                       Hydlide\n",
       "Sales                                          1.0\n",
       "Series                                     Hydlide\n",
       "Release                        1984-12-01 00:00:00\n",
       "Genre                          Action role-playing\n",
       "Developer    Technology and Entertainment Software\n",
       "Publisher    Technology and Entertainment Software\n",
       "Name: 133, dtype: object"
      ]
     },
     "execution_count": 52,
     "metadata": {},
     "output_type": "execute_result"
    }
   ],
   "source": [
    "#The oldest game on dataset\n",
    "oldest_game = df.iloc[df['Release'].argmin()]\n",
    "oldest_game"
   ]
  },
  {
   "cell_type": "code",
   "execution_count": 83,
   "metadata": {},
   "outputs": [
    {
     "data": {
      "text/plain": [
       "Name                         Valheim\n",
       "Sales                            6.0\n",
       "Series                           NaN\n",
       "Release          2021-02-01 00:00:00\n",
       "Genre                       Survival\n",
       "Developer                  Iron Gate\n",
       "Publisher    Coffee Stain Publishing\n",
       "Name: 20, dtype: object"
      ]
     },
     "execution_count": 83,
     "metadata": {},
     "output_type": "execute_result"
    }
   ],
   "source": [
    "#The newest game on dataset\n",
    "newest_game = df.loc[df['Release'].argmax()]\n",
    "newest_game"
   ]
  },
  {
   "cell_type": "code",
   "execution_count": 150,
   "metadata": {},
   "outputs": [
    {
     "data": {
      "text/plain": [
       "Publisher\n",
       "Electronic Arts    19\n",
       "Name: count, dtype: int64"
      ]
     },
     "execution_count": 150,
     "metadata": {},
     "output_type": "execute_result"
    }
   ],
   "source": [
    "#Publisher published most of the games\n",
    "most_publisher = df['Publisher'].value_counts().nlargest(1)\n",
    "most_publisher"
   ]
  },
  {
   "cell_type": "code",
   "execution_count": 37,
   "metadata": {},
   "outputs": [
    {
     "data": {
      "text/plain": [
       "Developer\n",
       "Blizzard Entertainment    10\n",
       "Name: count, dtype: int64"
      ]
     },
     "execution_count": 37,
     "metadata": {},
     "output_type": "execute_result"
    }
   ],
   "source": [
    "#Developer developed most of the games\n",
    "most_developer = df['Developer'].value_counts().nlargest(1)\n",
    "most_developer"
   ]
  },
  {
   "cell_type": "code",
   "execution_count": 143,
   "metadata": {},
   "outputs": [
    {
     "data": {
      "text/plain": [
       "Name                   Minecraft\n",
       "Sales                       33.0\n",
       "Series                 Minecraft\n",
       "Release      2011-11-01 00:00:00\n",
       "Genre         Sandbox,Â survival\n",
       "Developer         Mojang Studios\n",
       "Publisher         Mojang Studios\n",
       "Name: 1, dtype: object"
      ]
     },
     "execution_count": 143,
     "metadata": {},
     "output_type": "execute_result"
    }
   ],
   "source": [
    "#Series has the most sales\n",
    "most_sales = df_cleaned.iloc[df_alt['Sales'].value_counts().argmax()]\n",
    "most_sales"
   ]
  },
  {
   "cell_type": "code",
   "execution_count": 148,
   "metadata": {},
   "outputs": [
    {
     "data": {
      "text/plain": [
       "<Axes: xlabel='Series', ylabel='Sales'>"
      ]
     },
     "execution_count": 148,
     "metadata": {},
     "output_type": "execute_result"
    },
    {
     "data": {
      "image/png": "[encoded data removed]",
      "text/plain": [
       "<Figure size 2000x300 with 1 Axes>"
      ]
     },
     "metadata": {},
     "output_type": "display_data"
    }
   ],
   "source": [
    "plt.rcParams[\"figure.figsize\"] = (20,3)\n",
    "\n",
    "sns.barplot(data = df_cleaned.iloc[df_cleaned['Sales']], x= 'Series', y= 'Sales')"
   ]
  },
  {
   "cell_type": "code",
   "execution_count": null,
   "metadata": {},
   "outputs": [
    {
     "data": {
      "text/plain": [
       "Series\n",
       "StarCraft    6\n",
       "Name: count, dtype: int64"
      ]
     },
     "execution_count": 15,
     "metadata": {},
     "output_type": "execute_result"
    }
   ],
   "source": [
    "#Series have the most games\n",
    "most_series = df['Series'].value_counts().nlargest(1)\n",
    "most_series"
   ]
  }
 ],
 "metadata": {
  "kernelspec": {
   "display_name": "Python 3",
   "language": "python",
   "name": "python3"
  },
  "language_info": {
   "codemirror_mode": {
    "name": "ipython",
    "version": 3
   },
   "file_extension": ".py",
   "mimetype": "text/x-python",
   "name": "python",
   "nbconvert_exporter": "python",
   "pygments_lexer": "ipython3",
   "version": "3.10.7"
  },
  "orig_nbformat": 4
 },
 "nbformat": 4,
 "nbformat_minor": 2
}
